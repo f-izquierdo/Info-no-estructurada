{
 "cells": [
  {
   "cell_type": "markdown",
   "id": "20409b89",
   "metadata": {},
   "source": [
    "# Ejercicio 1: Contando letras\n",
    "\n",
    "Escribe un programa que cuente cuántas veces aparece la letra \"a\" en la siguiente frase:"
   ]
  },
  {
   "cell_type": "code",
   "execution_count": 1,
   "id": "fa92c315",
   "metadata": {},
   "outputs": [],
   "source": [
    "frase = \"En un lugar de la Mancha, de cuyo nombre no quiero acordarme...\"\n",
    "\n"
   ]
  },
  {
   "cell_type": "markdown",
   "id": "4836cd4d",
   "metadata": {},
   "source": [
    "# Ejercicio 2: Rellenar los huecos\n",
    "\n",
    "Rellena los huecos para que el siguiente código funcione correctamente y cuente cuántas palabras hay en la frase."
   ]
  },
  {
   "cell_type": "code",
   "execution_count": null,
   "id": "fe4215d2",
   "metadata": {},
   "outputs": [],
   "source": [
    "frase = \"El ingenioso hidalgo don Quijote de la Mancha\"\n",
    "palabras = frase.split(____) \n",
    "num_palabras = len(_____)\n",
    "print(f\"El número de palabras en la frase es: {num_palabras}\")\n"
   ]
  },
  {
   "cell_type": "markdown",
   "id": "aa36deab",
   "metadata": {},
   "source": [
    "# Ejercicio 3: Palabra más larga\n",
    "Escribe un código que encuentre la palabra más larga en la siguiente frase:"
   ]
  },
  {
   "cell_type": "code",
   "execution_count": null,
   "id": "16d3884f",
   "metadata": {},
   "outputs": [],
   "source": [
    "frase = \"Ningún libro es malo si al final enseña algo\"\n",
    "\n"
   ]
  },
  {
   "cell_type": "markdown",
   "id": "b36e0362",
   "metadata": {},
   "source": [
    "# Ejercicio 4: Rellenar los huecos - Condicionales\n",
    "Rellena los huecos para que el código verifique si la primera letra de la palabra es una vocal."
   ]
  },
  {
   "cell_type": "code",
   "execution_count": null,
   "id": "2b3e6a1b",
   "metadata": {},
   "outputs": [],
   "source": [
    "palabra = \"aventura\"\n",
    "if palabra[0] in _____:\n",
    "    print(\"La primera letra es una vocal.\")\n",
    "else:\n",
    "    print(\"La primera letra es una consonante.\")\n"
   ]
  },
  {
   "cell_type": "markdown",
   "id": "7ef359e0",
   "metadata": {},
   "source": [
    "# Ejercicio 5: Invirtiendo palabras\n",
    "Escribe un programa que invierta las palabras de la siguiente frase:"
   ]
  },
  {
   "cell_type": "code",
   "execution_count": null,
   "id": "b7f3f99a",
   "metadata": {},
   "outputs": [],
   "source": [
    "frase = \"Nunca es tarde para aprender\"\n",
    "\n"
   ]
  },
  {
   "cell_type": "markdown",
   "id": "98b9aee3",
   "metadata": {},
   "source": [
    "# Ejercicio 6: Rellenar los huecos - Bucles\n",
    "Rellena los huecos para que el código imprima cada palabra de la frase en una línea nueva:"
   ]
  },
  {
   "cell_type": "code",
   "execution_count": null,
   "id": "9e7951f8",
   "metadata": {},
   "outputs": [],
   "source": [
    "frase = \"Sabe más el diablo por viejo que por diablo\"\n",
    "palabras = frase.split(\" \")\n",
    "for palabra in _______:\n",
    "    print(________)\n"
   ]
  },
  {
   "cell_type": "markdown",
   "id": "53e985e0",
   "metadata": {},
   "source": [
    "# Ejercicio 7: Encuentra la palabra clave\n",
    "Dada la siguiente frase, encuentra y extrae la palabra \"clave\" que está justo después de la palabra \"secreto\"."
   ]
  },
  {
   "cell_type": "code",
   "execution_count": null,
   "id": "75c765d2",
   "metadata": {},
   "outputs": [],
   "source": [
    "frase = \"El código secreto es: éxito. No lo olvides.\"\n"
   ]
  },
  {
   "cell_type": "markdown",
   "id": "534da1d6",
   "metadata": {},
   "source": [
    "# Ejercicio 8: Rellenar los huecos - Formateo de Strings\n",
    "Rellena los huecos para que el código inserte correctamente las variables en la frase."
   ]
  },
  {
   "cell_type": "code",
   "execution_count": null,
   "id": "883414fc",
   "metadata": {},
   "outputs": [],
   "source": [
    "nombre = \"Sancho\"\n",
    "lugar = \"La Mancha\"\n",
    "print(f\"Mi nombre es _____ y soy de _____\")\n"
   ]
  },
  {
   "cell_type": "markdown",
   "id": "0f0ec863",
   "metadata": {},
   "source": [
    "# Ejercicio 9: Palabras en mayúsculas\n",
    "Convierte todas las palabras de la siguiente frase a mayúsculas:"
   ]
  },
  {
   "cell_type": "code",
   "execution_count": null,
   "id": "64890fae",
   "metadata": {},
   "outputs": [],
   "source": [
    "frase = \"A mal tiempo, buena cara\"\n",
    "\n"
   ]
  },
  {
   "cell_type": "markdown",
   "id": "182a9e5a",
   "metadata": {},
   "source": [
    "# Ejercicio 10: Cuenta palabras clave\n",
    "Escribe un programa que cuente cuántas veces aparece la palabra \"y\" en la siguiente frase:"
   ]
  },
  {
   "cell_type": "code",
   "execution_count": null,
   "id": "84a2ac1b",
   "metadata": {},
   "outputs": [],
   "source": [
    "frase = \"Amar y sufrir, y vivir y soñar\"\n",
    "\n"
   ]
  }
 ],
 "metadata": {
  "kernelspec": {
   "display_name": "Python 3 (ipykernel)",
   "language": "python",
   "name": "python3"
  },
  "language_info": {
   "codemirror_mode": {
    "name": "ipython",
    "version": 3
   },
   "file_extension": ".py",
   "mimetype": "text/x-python",
   "name": "python",
   "nbconvert_exporter": "python",
   "pygments_lexer": "ipython3",
   "version": "3.11.3"
  }
 },
 "nbformat": 4,
 "nbformat_minor": 5
}
